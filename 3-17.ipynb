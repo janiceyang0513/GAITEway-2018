{
 "cells": [
  {
   "cell_type": "markdown",
   "metadata": {},
   "source": [
    "# Welcome to Day 3 of the GAITEway 2018 Workshops!\n",
    "\n",
    "First, we will be going over some Python Review, and then jump into some cool projects!\n",
    "\n",
    "Remember, press Shift - Enter to run a cell!"
   ]
  },
  {
   "cell_type": "code",
   "execution_count": null,
   "metadata": {},
   "outputs": [],
   "source": [
    "# Try running this cell\n",
    "\n",
    "print ('Hello!')"
   ]
  },
  {
   "cell_type": "markdown",
   "metadata": {},
   "source": [
    "## Input \n",
    "\n",
    "This function will take input from the user.\n",
    "\n",
    "Before, we said that input is with\n",
    "\n",
    "input(),\n",
    "\n",
    "but in Python 2.7, it is\n",
    "\n",
    "raw_input()\n",
    "\n",
    "Whatever you put in the parentheses is the question it asks you."
   ]
  },
  {
   "cell_type": "code",
   "execution_count": null,
   "metadata": {},
   "outputs": [],
   "source": [
    "#As an example, try running this code\n",
    "x = raw_input(\"Write your name! \")\n",
    "print (\"Hi \" + x)"
   ]
  },
  {
   "cell_type": "markdown",
   "metadata": {},
   "source": [
    "## Strings\n",
    "Very good!\n",
    "\n",
    "Today we will be working with strings, so let's go over some cool things you can do with those!\n",
    "\n",
    "Do you remember what a string is?\n",
    "If you don't, here's a refresher: A string is some text put into double quotes, \"\" or single quotes, ''. \n",
    "The following are all strings:\n",
    "\n",
    "\"Hi!\"\n",
    "\n",
    "'15'\n",
    "\n",
    "The only thing you have to remember is that if you start with a double quote, end with a double quote, and vice versa. So, the following are not strings:\n",
    "\n",
    "\"Hi!'\n",
    "\n",
    "'15\"\n"
   ]
  },
  {
   "cell_type": "code",
   "execution_count": null,
   "metadata": {},
   "outputs": [],
   "source": [
    "#Print out some strings!\n"
   ]
  },
  {
   "cell_type": "markdown",
   "metadata": {},
   "source": [
    "## Variables\n",
    "\n",
    "Strings and other pieces of information, called data types, can be stored in variables.\n",
    "\n",
    "This concept is very similar to the one you learned in math class. However, in programming, YOU get to decide what the variables are. You even get to name them!\n",
    "\n",
    "Remember, some data types are strings, ints (integers), floats (anything with a decimal), and bools (True or False).\n",
    "\n",
    "To create a variable, just write the name of the variable you want to create, an = sign and the value you want to assign it to. For example:\n",
    "\n",
    "my_var = 5\n",
    "\n",
    "my_str = \"Hi!\""
   ]
  },
  {
   "cell_type": "code",
   "execution_count": null,
   "metadata": {},
   "outputs": [],
   "source": [
    "# Try assigning some data types to variables and printing the variable\n"
   ]
  },
  {
   "cell_type": "markdown",
   "metadata": {},
   "source": [
    "## String Indexing\n",
    "\n",
    "Strings are special because each letter/character in a string has a number called an 'index'.\n",
    "\n",
    "I like to think of it like a 'place-value'. In math, digits can be in the ones place, the tens place, and so on. In programming, characters are in the 0th index, 1st index, and so on.\n",
    "\n",
    "Indexes are quite weird though. They start with 0 instead of 1.\n",
    "\n",
    "So in the string \"Coding is great\", the \"C\" is in the 0th index, and the \"n\" is in the 4th index.\n",
    "\n",
    "For example, if you wanted a section of a string, then you can ask the computer for this by using indexes. For example, if you wanted to take the string \"Coding\" from the previous example, you would put it in this notation. The variable name[first index : last index (not included)]\n",
    "\n",
    "That was a bit confusing so let's see an example"
   ]
  },
  {
   "cell_type": "code",
   "execution_count": null,
   "metadata": {},
   "outputs": [],
   "source": [
    "# Try running the following code\n",
    "\n",
    "my_str = \"ice cream\"\n",
    "print (my_str[0:3])"
   ]
  },
  {
   "cell_type": "markdown",
   "metadata": {},
   "source": [
    "Programmers are lazy, so if the index you want to start with is 0, they will usually not write it. So in the example above, they would write my_str[:3] instead. If the last index is the last index of the string, you can take that out too. so if you just want 'cream', you can write:\n",
    "\n",
    "print (my_str[4:])"
   ]
  },
  {
   "cell_type": "code",
   "execution_count": null,
   "metadata": {},
   "outputs": [],
   "source": [
    "#Let's try it out! Try printing \"coding\" and then \"cool\" (without the !)\n",
    "\n",
    "new_str = \"Coding is cool!\"\n",
    "\n",
    "# YOUR CODE HERE\n",
    "\n"
   ]
  },
  {
   "cell_type": "markdown",
   "metadata": {},
   "source": [
    "## String Concatentation\n",
    "\n",
    "A fancy term for sticking strings together.\n",
    "\n",
    "You can use a comma in between or a plus sign. If you use a plus sign, remember to add a space to one of the strings!\n"
   ]
  },
  {
   "cell_type": "code",
   "execution_count": null,
   "metadata": {},
   "outputs": [],
   "source": [
    "#Define two variables as strings and concat them together and print the result\n",
    "\n"
   ]
  },
  {
   "cell_type": "markdown",
   "metadata": {},
   "source": [
    "# Project - Madlibs\n",
    "\n",
    "A madlib is a way of creating a funny story where the computer would ask you to input a certain type of word such as a noun or adjective, and put it into a story!\n",
    "\n",
    "First, let's try buliding one for the simple \"Roses are red...\" poem.\n",
    "\n",
    "The original poem goes like this:\n",
    "\n",
    "\n",
    "Roses are red, violets are blue. Sugar is sweet, and so are you!\n",
    "\n",
    "The madlib style poem with blanks to fill in looks like this:\n",
    "\n",
    "Roses are [adjective], [plural noun] are blue. [noun] is [adjective], and so are you!\n",
    "\n",
    "\n",
    "When we tried this we got:\n",
    "\n",
    "Roses are nutritious, apples are blue. Cactus is juicy, and so are you!\n",
    "\n",
    "So, let's get programming!"
   ]
  },
  {
   "cell_type": "code",
   "execution_count": null,
   "metadata": {},
   "outputs": [],
   "source": [
    "# Ask the reader for an adjective, and store it as the variable: adjective1\n",
    "\n"
   ]
  },
  {
   "cell_type": "code",
   "execution_count": null,
   "metadata": {},
   "outputs": [],
   "source": [
    "# Ask the reader for an plural noun, and store it as the variable: plural noun\n"
   ]
  },
  {
   "cell_type": "code",
   "execution_count": null,
   "metadata": {},
   "outputs": [],
   "source": [
    "# Ask the reader for an noun, and store it as the variable: noun\n"
   ]
  },
  {
   "cell_type": "code",
   "execution_count": null,
   "metadata": {},
   "outputs": [],
   "source": [
    "# Ask the reader for an adjective2, and store it as the variable: adjective2\n"
   ]
  },
  {
   "cell_type": "code",
   "execution_count": null,
   "metadata": {},
   "outputs": [],
   "source": [
    "#Now, using string concatentaion, put together the line \"Roses are \" \n",
    "# and adjective1\n",
    "\n",
    "#Do this for the next three lines written above\n",
    "#Don't forget to print your final poem!\n",
    "\n"
   ]
  },
  {
   "cell_type": "markdown",
   "metadata": {},
   "source": [
    "Copy and paste your poem here if you want to make a new one and keep your old one!\n",
    "\n"
   ]
  },
  {
   "cell_type": "markdown",
   "metadata": {},
   "source": [
    "# Extra Project - Pig Latin Translator\n",
    "\n",
    "The goal: have the user input a English word, and your program will translate into Pig Latin\n",
    "\n",
    "The simplified rules of Pig Latin is to take the first letter of the word, move it to the end, and add an -ay.\n",
    "\n",
    "For example:\n",
    "\n",
    "'pig' becomes 'igpay'\n",
    "\n",
    "'dance' becomes 'anceday'"
   ]
  },
  {
   "cell_type": "code",
   "execution_count": null,
   "metadata": {},
   "outputs": [],
   "source": [
    "''' \n",
    "Have the user input their word and store it to a variable\n",
    "remember, user input can be done with input()\n",
    "'''\n",
    "\n"
   ]
  },
  {
   "cell_type": "code",
   "execution_count": null,
   "metadata": {},
   "outputs": [],
   "source": [
    "'''\n",
    "Create a new variable to hold your translated string and set it to the \n",
    "rest of the string not including the first letter.\n",
    "\n",
    "For example, for 'pig' the new string would be 'ig'\n",
    "\n",
    "Print your new word to make sure it's right!\n",
    "'''\n"
   ]
  },
  {
   "cell_type": "code",
   "execution_count": null,
   "metadata": {},
   "outputs": [],
   "source": [
    "'''\n",
    "Now add the first letter of the original word to the new word using \n",
    "concatenation.\n",
    "\n",
    "Also add the \"ay\" at the end\n",
    "\n",
    "print your translated word!\n",
    "'''\n",
    "\n",
    "\n"
   ]
  }
 ],
 "metadata": {
  "kernelspec": {
   "display_name": "Python 2",
   "language": "python",
   "name": "python2"
  },
  "language_info": {
   "codemirror_mode": {
    "name": "ipython",
    "version": 2
   },
   "file_extension": ".py",
   "mimetype": "text/x-python",
   "name": "python",
   "nbconvert_exporter": "python",
   "pygments_lexer": "ipython2",
   "version": "2.7.14"
  }
 },
 "nbformat": 4,
 "nbformat_minor": 2
}
